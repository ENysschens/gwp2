{
 "cells": [
  {
   "cell_type": "markdown",
   "id": "70b17e72",
   "metadata": {},
   "source": [
    "\n",
    "# Security Understanding: IVV (iShares Core S&P 500 ETF)\n",
    "\n",
    "**Fund Overview:**  \n",
    "The iShares Core S&P 500 ETF (ticker: IVV) tracks the S&P 500 Index, representing large-cap U.S. stocks. \n",
    "Managed by BlackRock, it provides low-cost, diversified exposure to sectors like technology, healthcare, and finance.\n",
    "\n",
    "**Asset Type:** Equity ETF  \n",
    "**Tracking Index:** S&P 500  \n",
    "**Expense Ratio:** 0.03%  \n",
    "**Dividend Yield:** ~1.4%  \n",
    "**Assets Under Management (AUM):** Over $300 Billion  \n",
    "**Inception Date:** May 15, 2000  \n",
    "\n",
    "**Historical Performance:**  \n",
    "Below is the simulated historical closing price for IVV from 2010 to 2025.\n"
   ]
  },
  {
   "cell_type": "code",
   "execution_count": null,
   "id": "dd6a4f08",
   "metadata": {},
   "outputs": [],
   "source": [
    "\n",
    "import matplotlib.pyplot as plt\n",
    "import pandas as pd\n",
    "import numpy as np\n",
    "\n",
    "# Simulate IVV price data\n",
    "dates = pd.date_range(start='2010-01-01', end='2025-04-01', freq='B')\n",
    "np.random.seed(42)\n",
    "price = np.cumsum(np.random.normal(loc=0.05, scale=2, size=len(dates))) + 100\n",
    "ivv_data = pd.DataFrame({'Date': dates, 'Close': price}).set_index('Date')\n",
    "\n",
    "# Plot the closing price\n",
    "plt.figure(figsize=(10,6))\n",
    "plt.plot(ivv_data['Close'])\n",
    "plt.title('IVV Simulated Historical Closing Prices (2010–2025)')\n",
    "plt.xlabel('Date')\n",
    "plt.ylabel('Closing Price (USD)')\n",
    "plt.grid(True)\n",
    "plt.show()\n"
   ]
  }
 ],
 "metadata": {},
 "nbformat": 4,
 "nbformat_minor": 5
}
